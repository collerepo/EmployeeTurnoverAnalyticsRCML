{
  "nbformat": 4,
  "nbformat_minor": 0,
  "metadata": {
    "colab": {
      "provenance": [],
      "authorship_tag": "ABX9TyMCOMPssiYlSayhc/PRUCcU"
    },
    "kernelspec": {
      "name": "python3",
      "display_name": "Python 3"
    },
    "language_info": {
      "name": "python"
    }
  },
  "cells": [
    {
      "cell_type": "code",
      "execution_count": 9,
      "metadata": {
        "colab": {
          "base_uri": "https://localhost:8080/"
        },
        "id": "7Kriju8VyG3a",
        "outputId": "32a08964-c693-414b-bb36-e949b4fbaae5"
      },
     
      ],
      "source": [
        "import pandas as pd\n",
        "import matplotlib.pyplot as plt\n",
        "import seaborn as sns\n",
        "from sklearn.model_selection import train_test_split, StratifiedKFold, cross_val_score, GridSearch\n",
        "from sklearn.preprocessing import LabelEncoder, PolynomialFeature\n",
        "from imblearn.over_sampling import SMOTE\n",
        "from sklearn.linear_model import LogisticRegression\n",
        "from sklearn.ensemble import RandomForestClassifier, GradientBoostingClassifier\n",
        "from sklearn.metrics import classification_report, roc_curve, auc, confusion_matrix\n",
        "import matplotlib.pyplot as plt\n",
        "import numpy as np\n",
        "import pandas as pd"
      ]
    },
    {
      "cell_type": "code",
      "source": [
        "# Load the dataset\n",
        "file_path = '~/1673873196_hr_comma_sep.xlsx'\n",
        "#data = pd.read_excel(file_path)\n",
        "# Encoding categorical variables\n",
        "label_encoder = LabelEncoder()\n",
        "data['sales_encoded'] = label_encoder.fit_transform(data['sales'])\n",
        "data['salary_encoded'] = label_encoder.fit_transform(data['salary'])\n",
        "# Check for missing values in the dataset\n",
        "missing_values = data.isnull().sum()"
      ],
      "metadata": {
        "id": "7N_GDiYZym-4"
      },
      "execution_count": null,
      "outputs": []
    },
    {
      "cell_type": "code",
      "source": [
        "# Define features and target\n",
        "features = data[['satisfaction_level', 'last_evaluation', 'number_project',\n",
        "                 'average_montly_hours', 'time_spend_company', 'Work_accident',\n",
        "                 'promotion_last_5years', 'sales_encoded', 'salary_encoded']]\n",
        "target = data['left']\n",
        "\n",
        "# Splitting the data\n",
        "X_train, X_test, y_train, y_test = train_test_split(features, target, test_size=0.2, random_state=123, stratify=target)\n",
        "\n",
        "# Handle class imbalance with SMOTE\n",
        "smote = SMOTE(random_state=42)\n",
        "X_train_smote, y_train_smote = smote.fit_resample(X_train, y_train)"
      ],
      "metadata": {
        "id": "J1US3GEk28Fh"
      },
      "execution_count": null,
      "outputs": []
    },
    {
      "cell_type": "code",
      "source": [
        "# Define models\n",
        "models = {\n",
        "    \"Logistic Regression\": LogisticRegression(max_iter=1000, random_state=42),\n",
        "    \"Random Forest\": RandomForestClassifier(random_state=42),\n",
        "    \"Gradient Boosting\": GradientBoostingClassifier(random_state=42)\n",
        "}"
      ],
      "metadata": {
        "id": "1Yf4DLFo3GDz"
      },
      "execution_count": null,
      "outputs": []
    },
    {
      "cell_type": "code",
      "source": [
        "# Cross-validation setup\n",
        "cv = StratifiedKFold(n_splits=5, shuffle=True, random_state=42)"
      ],
      "metadata": {
        "id": "1uQ61QLo3HiU"
      },
      "execution_count": null,
      "outputs": []
    },
    {
      "cell_type": "code",
      "source": [
        "# Model training and evaluation\n",
        "model_results = {}\n",
        "for name, model in models.items():\n",
        "    cv_scores = cross_val_score(model, X_train_smote, y_train_smote, cv=cv, scoring='accuracy')\n",
        "    model_results[name] = cv_scores\n",
        "    print(f\"Accuracy for {name}: {np.mean(cv_scores):.2f} +/- {np.std(cv_scores):.2f}\")"
      ],
      "metadata": {
        "id": "6vWuM3JM3mt6"
      },
      "execution_count": null,
      "outputs": []
    },
    {
      "cell_type": "code",
      "source": [
        "# Select the best model\n",
        "best_model_name = max(model_results, key=model_results.get)\n",
        "best_model = models[best_model_name]\n",
        "best_model.fit(X_train_smote, y_train_smote)\n",
        "# Assuming best_model is the best-performing model from previous steps\n",
        "# Predict probabilities of turnover\n",
        "probabilities = best_model.predict_proba(X_test)[:, 1]"
      ],
      "metadata": {
        "id": "t5vahiCD5TmV"
      },
      "execution_count": null,
      "outputs": []
    },
    {
      "cell_type": "code",
      "source": [
        "# Categorize employees into risk zones based on predicted probabilities\n",
        "def categorize_risk(prob):\n",
        "    if prob < 0.2:\n",
        "        return 'Safe Zone (Green)'\n",
        "    elif prob < 0.6:\n",
        "        return 'Low Risk Zone (Yellow)'\n",
        "    elif prob < 0.9:\n",
        "        return 'Medium Risk Zone (Orange)'\n",
        "    else:\n",
        "        return 'High Risk Zone (Red)'\n",
        "\n",
        "risk_categories = pd.Series(probabilities).apply(categorize_risk)\n",
        "\n",
        "# Analyze the distribution of risk categories\n",
        "risk_distribution = risk_categories.value_counts()\n",
        "print(\"Risk Category Distribution:\\n\", risk_distribution)"
      ],
      "metadata": {
        "id": "v_hX2VdV5Yzk"
      },
      "execution_count": null,
      "outputs": []
    },
    {
      "cell_type": "code",
      "source": [
        "# Suggest retention strategies\n",
        "retention_strategies = {\n",
        "    'Safe Zone (Green)': \"Maintain current engagement strategies.\",\n",
        "    'Low Risk Zone (Yellow)': \"Increase engagement through team building and small perks.\",\n",
        "    'Medium Risk Zone (Orange)': \"Offer flexible work options and career development opportunities.\",\n",
        "    'High Risk Zone (Red)': \"Implement immediate retention interventions, including raise negotiations and role adjustments.\"\n",
        "}"
      ],
      "metadata": {
        "id": "9Dsahocz5v37"
      },
      "execution_count": null,
      "outputs": []
    },
    {
      "cell_type": "code",
      "source": [
        "# Apply and display retention strategies\n",
        "risk_categories.map(retention_strategies)"
      ],
      "metadata": {
        "id": "hRSj7qru55Vt"
      },
      "execution_count": null,
      "outputs": []
    },
    {
      "cell_type": "code",
      "source": [
        "# Visualize risk distribution\n",
        "plt.figure(figsize=(8, 6))\n",
        "risk_distribution.plot(kind='bar', color=['green', 'yellow', 'orange', 'red'])\n",
        "plt.title('Distribution of Risk Zones')\n",
        "plt.xlabel('Risk Zones')\n",
        "plt.ylabel('Number of Employees')\n",
        "plt.show()"
      ],
      "metadata": {
        "id": "AtpIs-5q5-tv"
      },
      "execution_count": null,
      "outputs": []
    },
    {
      "cell_type": "code",
      "source": [
        "# Set up the aesthetics for plots\n",
        "sns.set(style=\"whitegrid\")\n",
        "#Correlation Matrix and Heatmap\n",
        "correlation_matrix = data.corr()\n",
        "plt.figure(figsize=(10, 8))\n",
        "heatmap = sns.heatmap(correlation_matrix, annot=True, fmt=\".2f\", cmap='coolwarm')\n",
        "plt.title('Correlation Matrix of Variables')\n",
        "plt.show()"
      ],
      "metadata": {
        "id": "jSzn8Sd-ynR4"
      },
      "execution_count": null,
      "outputs": []
    },
    {
      "cell_type": "code",
      "source": [
        "# Distribution plots for key metrics\n",
        "fig, axes = plt.subplots(1, 3, figsize=(18, 5))\n",
        "sns.histplot(data['satisfaction_level'], bins=10, kde=True, ax=axes[0])\n",
        "axes[0].set_title('Distribution of Employee Satisfaction Levels')\n",
        "\n",
        "sns.histplot(data['last_evaluation'], bins=10, kde=True, ax=axes[1])\n",
        "axes[1].set_title('Distribution of Last Evaluations')\n",
        "\n",
        "sns.histplot(data['average_montly_hours'], bins=10, kde=True, ax=axes[2])\n",
        "axes[2].set_title('Distribution of Average Monthly Hours')\n",
        "plt.show()"
      ],
      "metadata": {
        "id": "e8VSofzrynkY"
      },
      "execution_count": null,
      "outputs": []
    },
    {
      "cell_type": "code",
      "source": [
        "# Bar plot for the number of projects\n",
        "plt.figure(figsize=(10, 6))\n",
        "sns.countplot(x='number_project', hue='left', data=data)\n",
        "plt.title('Employee Project Count for Employees who Stayed vs. Left')\n",
        "plt.xlabel('Number of Projects')\n",
        "plt.ylabel('Count')\n",
        "plt.legend(title='Left', labels=['Stayed', 'Left'])\n",
        "plt.show()"
      ],
      "metadata": {
        "id": "aoHN-bfsyn23"
      },
      "execution_count": null,
      "outputs": []
    },
    {
      "cell_type": "code",
      "source": [
        "from sklearn.cluster import KMeans\n",
        "# Filter data for employees who left the company\n",
        "left_data = data[data['left'] == 1]"
      ],
      "metadata": {
        "id": "rd10Q20qyoKY"
      },
      "execution_count": null,
      "outputs": []
    },
    {
      "cell_type": "code",
      "source": [
        "# Select relevant features for clustering\n",
        "clustering_features = left_data[['satisfaction_level', 'last_evaluation']]"
      ],
      "metadata": {
        "id": "wC-i0ul6yoc4"
      },
      "execution_count": null,
      "outputs": []
    },
    {
      "cell_type": "code",
      "source": [
        "# Apply KMeans clustering\n",
        "kmeans = KMeans(n_clusters=3, random_state=42)\n",
        "left_data['cluster'] = kmeans.fit_predict(clustering_features)"
      ],
      "metadata": {
        "id": "iY7y1gReyov4"
      },
      "execution_count": null,
      "outputs": []
    },
    {
      "cell_type": "code",
      "source": [
        "# Plot the clusters\n",
        "plt.figure(figsize=(10, 6))\n",
        "sns.scatterplot(x='satisfaction_level', y='last_evaluation', hue='cluster', data=left_data, palette='viridis')\n",
        "plt.title('Clustering of Employees Who Left Based on Satisfaction and Evaluation')\n",
        "plt.xlabel('Satisfaction Level')\n",
        "plt.ylabel('Last Evaluation')\n",
        "plt.legend(title='Cluster')\n",
        "plt.show()"
      ],
      "metadata": {
        "id": "xl2xn7rXypFG"
      },
      "execution_count": null,
      "outputs": []
    },
    {
      "cell_type": "code",
      "source": [
        "# Encoding categorical variables\n",
        "label_encoder = LabelEncoder()\n",
        "data['sales_encoded'] = label_encoder.fit_transform(data['sales'])\n",
        "data['salary_encoded'] = label_encoder.fit_transform(data['salary'])"
      ],
      "metadata": {
        "id": "CcC44p-0zSAi"
      },
      "execution_count": null,
      "outputs": []
    },
    {
      "cell_type": "code",
      "source": [
        "# Combining all features into a single DataFrame\n",
        "features = data[['satisfaction_level', 'last_evaluation', 'number_project',\n",
        "                 'average_montly_hours', 'time_spend_company', 'Work_accident',\n",
        "                 'promotion_last_5years', 'sales_encoded', 'salary_encoded']]\n",
        "target = data['left']"
      ],
      "metadata": {
        "id": "mh1tmO_AzSWA"
      },
      "execution_count": null,
      "outputs": []
    },
    {
      "cell_type": "code",
      "source": [
        "# Splitting the data into training and testing sets\n",
        "X_train, X_test, y_train, y_test = train_test_split(features, target, test_size=0.2, random_state=123, stratify=target)"
      ],
      "metadata": {
        "id": "Olm70FKfzSrh"
      },
      "execution_count": null,
      "outputs": []
    },
    {
      "cell_type": "code",
      "source": [
        "# Applying SMOTE to handle class imbalance in the training set\n",
        "smote = SMOTE(random_state=42)\n",
        "X_train_smote, y_train_smote = smote.fit_resample(X_train, y_train)"
      ],
      "metadata": {
        "id": "RDJLpKD3zTDQ"
      },
      "execution_count": null,
      "outputs": []
    },
    {
      "cell_type": "code",
      "source": [
        "# Feature Engineering: Interaction Terms\n",
        "poly = PolynomialFeatures(degree=2, interaction_only=True, include_bias=False)\n",
        "features_poly = poly.fit_transform(features)\n",
        "features_poly_df = pd.DataFrame(features_poly, columns=poly.get_feature_names(features.columns))\n",
        "\n",
        "# Split the new features into training and testing sets\n",
        "X_train_poly, X_test_poly, y_train, y_test = train_test_split(\n",
        "    features_poly_df, target, test_size=0.2, random_state=123, stratify=target\n",
        ")"
      ],
      "metadata": {
        "id": "8FcROOUS6zfI"
      },
      "execution_count": null,
      "outputs": []
    },
    {
      "cell_type": "code",
      "source": [
        "# Advanced Modeling: Random Forest with Hyperparameter Tuning\n",
        "param_grid = {\n",
        "    'n_estimators': [100, 200, 300],\n",
        "    'max_depth': [None, 10, 20, 30],\n",
        "    'min_samples_split': [2, 5, 10]\n",
        "}\n",
        "grid_search = GridSearchCV(RandomForestClassifier(random_state=42), param_grid, cv=3)\n",
        "grid_search.fit(X_train_poly, y_train)\n",
        "best_rf_model = grid_search.best_estimator_"
      ],
      "metadata": {
        "id": "ipQ526ga63Mo"
      },
      "execution_count": null,
      "outputs": []
    },
    {
      "cell_type": "code",
      "source": [
        "# Feature Importance Visualization\n",
        "importances = best_rf_model.feature_importances_\n",
        "indices = np.argsort(importances)[::-1]\n",
        "plt.figure()\n",
        "plt.title(\"Feature importances\")\n",
        "plt.bar(range(X_train_poly.shape[1]), importances[indices], align=\"center\")\n",
        "plt.xticks(range(X_train_poly.shape[1]), X_train_poly.columns[indices], rotation=90)\n",
        "plt.xlim([-1, X_train_poly.shape[1]])\n",
        "plt.show()\n",
        "\n",
        "\n",
        "\n",
        "# Predict and evaluate the best model\n",
        "y_pred = best_model.predict(X_test)\n",
        "print(classification_report(y_test, y_pred))\n",
        "\n",
        "# ROC and AUC\n",
        "y_scores = best_model.predict_proba(X_test)[:, 1]\n",
        "fpr, tpr, _ = roc_curve(y_test, y_scores)\n",
        "roc_auc = auc(fpr, tpr)\n",
        "\n",
        "plt.figure(figsize=(8, 6))\n",
        "plt.plot(fpr, tpr, label=f'ROC curve (area = {roc_auc:.2f})')\n",
        "plt.plot([0, 1], [0, 1], linestyle='--')\n",
        "plt.xlabel('False Positive Rate')\n",
        "plt.ylabel('True Positive Rate')\n",
        "plt.title('Receiver Operating Characteristic')\n",
        "plt.legend(loc=\"lower right\")\n",
        "plt.show()"
      ],
      "metadata": {
        "id": "xLUxt1o566gI"
      },
      "execution_count": null,
      "outputs": []
    },
    {
      "cell_type": "code",
      "source": [
        "# Check the balance of the target classes after SMOTE\n",
        "balance_check = pd.Series(y_train_smote).value_counts()"
      ],
      "metadata": {
        "id": "qashGN1JzTQy"
      },
      "execution_count": null,
      "outputs": []
    },
    {
      "cell_type": "code",
      "source": [
        "print(balance_check)"
      ],
      "metadata": {
        "id": "Z6mCKmmEzTbw"
      },
      "execution_count": null,
      "outputs": []
    },
    {
      "cell_type": "code",
      "source": [],
      "metadata": {
        "id": "Azq2lf620woi"
      },
      "execution_count": null,
      "outputs": []
    },
    {
      "cell_type": "code",
      "source": [],
      "metadata": {
        "id": "p-IVLKn30xh0"
      },
      "execution_count": null,
      "outputs": []
    },
    {
      "cell_type": "code",
      "source": [],
      "metadata": {
        "id": "d0fcIS7c0yBT"
      },
      "execution_count": null,
      "outputs": []
    },
    {
      "cell_type": "code",
      "source": [],
      "metadata": {
        "id": "MNpbDdA50zIW"
      },
      "execution_count": null,
      "outputs": []
    },
    {
      "cell_type": "code",
      "source": [],
      "metadata": {
        "id": "pciaAcxb0zsU"
      },
      "execution_count": null,
      "outputs": []
    },
    {
      "cell_type": "code",
      "source": [],
      "metadata": {
        "id": "YgAdMWjn0z9T"
      },
      "execution_count": null,
      "outputs": []
    },
    {
      "cell_type": "code",
      "source": [],
      "metadata": {
        "id": "Bvn1OJMi00Ll"
      },
      "execution_count": null,
      "outputs": []
    },
    {
      "cell_type": "code",
      "source": [],
      "metadata": {
        "id": "f5yJrIEZ00e1"
      },
      "execution_count": null,
      "outputs": []
    },
    {
      "cell_type": "code",
      "source": [],
      "metadata": {
        "id": "B5R39R4_00zk"
      },
      "execution_count": null,
      "outputs": []
    }
  ]
}
